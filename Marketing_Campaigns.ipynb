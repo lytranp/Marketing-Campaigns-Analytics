{
 "cells": [
  {
   "cell_type": "code",
   "execution_count": 31,
   "metadata": {},
   "outputs": [],
   "source": [
    "import pandas as pd\n",
    "import numpy as np\n",
    "import matplotlib.pyplot as plt"
   ]
  },
  {
   "cell_type": "code",
   "execution_count": 2,
   "metadata": {},
   "outputs": [],
   "source": [
    "from IPython.core.interactiveshell import InteractiveShell\n",
    "InteractiveShell.ast_node_interactivity = \"all\""
   ]
  },
  {
   "cell_type": "markdown",
   "metadata": {},
   "source": [
    "### 1. Explore data"
   ]
  },
  {
   "cell_type": "code",
   "execution_count": 4,
   "metadata": {},
   "outputs": [],
   "source": [
    "marketing = pd.read_csv('marketing.csv')"
   ]
  },
  {
   "cell_type": "code",
   "execution_count": 6,
   "metadata": {
    "scrolled": false
   },
   "outputs": [
    {
     "data": {
      "text/html": [
       "<div>\n",
       "<style scoped>\n",
       "    .dataframe tbody tr th:only-of-type {\n",
       "        vertical-align: middle;\n",
       "    }\n",
       "\n",
       "    .dataframe tbody tr th {\n",
       "        vertical-align: top;\n",
       "    }\n",
       "\n",
       "    .dataframe thead th {\n",
       "        text-align: right;\n",
       "    }\n",
       "</style>\n",
       "<table border=\"1\" class=\"dataframe\">\n",
       "  <thead>\n",
       "    <tr style=\"text-align: right;\">\n",
       "      <th></th>\n",
       "      <th>user_id</th>\n",
       "      <th>date_served</th>\n",
       "      <th>marketing_channel</th>\n",
       "      <th>variant</th>\n",
       "      <th>converted</th>\n",
       "      <th>language_displayed</th>\n",
       "      <th>language_preferred</th>\n",
       "      <th>age_group</th>\n",
       "      <th>date_subscribed</th>\n",
       "      <th>date_canceled</th>\n",
       "      <th>subscribing_channel</th>\n",
       "      <th>is_retained</th>\n",
       "    </tr>\n",
       "  </thead>\n",
       "  <tbody>\n",
       "    <tr>\n",
       "      <th>0</th>\n",
       "      <td>a100000029</td>\n",
       "      <td>1/1/18</td>\n",
       "      <td>House Ads</td>\n",
       "      <td>personalization</td>\n",
       "      <td>True</td>\n",
       "      <td>English</td>\n",
       "      <td>English</td>\n",
       "      <td>0-18 years</td>\n",
       "      <td>1/1/18</td>\n",
       "      <td>NaN</td>\n",
       "      <td>House Ads</td>\n",
       "      <td>True</td>\n",
       "    </tr>\n",
       "    <tr>\n",
       "      <th>1</th>\n",
       "      <td>a100000030</td>\n",
       "      <td>1/1/18</td>\n",
       "      <td>House Ads</td>\n",
       "      <td>personalization</td>\n",
       "      <td>True</td>\n",
       "      <td>English</td>\n",
       "      <td>English</td>\n",
       "      <td>19-24 years</td>\n",
       "      <td>1/1/18</td>\n",
       "      <td>NaN</td>\n",
       "      <td>House Ads</td>\n",
       "      <td>True</td>\n",
       "    </tr>\n",
       "    <tr>\n",
       "      <th>2</th>\n",
       "      <td>a100000031</td>\n",
       "      <td>1/1/18</td>\n",
       "      <td>House Ads</td>\n",
       "      <td>personalization</td>\n",
       "      <td>True</td>\n",
       "      <td>English</td>\n",
       "      <td>English</td>\n",
       "      <td>24-30 years</td>\n",
       "      <td>1/1/18</td>\n",
       "      <td>NaN</td>\n",
       "      <td>House Ads</td>\n",
       "      <td>True</td>\n",
       "    </tr>\n",
       "    <tr>\n",
       "      <th>3</th>\n",
       "      <td>a100000032</td>\n",
       "      <td>1/1/18</td>\n",
       "      <td>House Ads</td>\n",
       "      <td>personalization</td>\n",
       "      <td>True</td>\n",
       "      <td>English</td>\n",
       "      <td>English</td>\n",
       "      <td>30-36 years</td>\n",
       "      <td>1/1/18</td>\n",
       "      <td>NaN</td>\n",
       "      <td>House Ads</td>\n",
       "      <td>True</td>\n",
       "    </tr>\n",
       "    <tr>\n",
       "      <th>4</th>\n",
       "      <td>a100000033</td>\n",
       "      <td>1/1/18</td>\n",
       "      <td>House Ads</td>\n",
       "      <td>personalization</td>\n",
       "      <td>True</td>\n",
       "      <td>English</td>\n",
       "      <td>English</td>\n",
       "      <td>36-45 years</td>\n",
       "      <td>1/1/18</td>\n",
       "      <td>NaN</td>\n",
       "      <td>House Ads</td>\n",
       "      <td>True</td>\n",
       "    </tr>\n",
       "  </tbody>\n",
       "</table>\n",
       "</div>"
      ],
      "text/plain": [
       "      user_id date_served marketing_channel          variant converted  \\\n",
       "0  a100000029      1/1/18         House Ads  personalization      True   \n",
       "1  a100000030      1/1/18         House Ads  personalization      True   \n",
       "2  a100000031      1/1/18         House Ads  personalization      True   \n",
       "3  a100000032      1/1/18         House Ads  personalization      True   \n",
       "4  a100000033      1/1/18         House Ads  personalization      True   \n",
       "\n",
       "  language_displayed language_preferred    age_group date_subscribed  \\\n",
       "0            English            English   0-18 years          1/1/18   \n",
       "1            English            English  19-24 years          1/1/18   \n",
       "2            English            English  24-30 years          1/1/18   \n",
       "3            English            English  30-36 years          1/1/18   \n",
       "4            English            English  36-45 years          1/1/18   \n",
       "\n",
       "  date_canceled subscribing_channel is_retained  \n",
       "0           NaN           House Ads        True  \n",
       "1           NaN           House Ads        True  \n",
       "2           NaN           House Ads        True  \n",
       "3           NaN           House Ads        True  \n",
       "4           NaN           House Ads        True  "
      ]
     },
     "execution_count": 6,
     "metadata": {},
     "output_type": "execute_result"
    },
    {
     "data": {
      "text/html": [
       "<div>\n",
       "<style scoped>\n",
       "    .dataframe tbody tr th:only-of-type {\n",
       "        vertical-align: middle;\n",
       "    }\n",
       "\n",
       "    .dataframe tbody tr th {\n",
       "        vertical-align: top;\n",
       "    }\n",
       "\n",
       "    .dataframe thead th {\n",
       "        text-align: right;\n",
       "    }\n",
       "</style>\n",
       "<table border=\"1\" class=\"dataframe\">\n",
       "  <thead>\n",
       "    <tr style=\"text-align: right;\">\n",
       "      <th></th>\n",
       "      <th>user_id</th>\n",
       "      <th>date_served</th>\n",
       "      <th>marketing_channel</th>\n",
       "      <th>variant</th>\n",
       "      <th>converted</th>\n",
       "      <th>language_displayed</th>\n",
       "      <th>language_preferred</th>\n",
       "      <th>age_group</th>\n",
       "      <th>date_subscribed</th>\n",
       "      <th>date_canceled</th>\n",
       "      <th>subscribing_channel</th>\n",
       "      <th>is_retained</th>\n",
       "    </tr>\n",
       "  </thead>\n",
       "  <tbody>\n",
       "    <tr>\n",
       "      <th>10032</th>\n",
       "      <td>a100007290</td>\n",
       "      <td>1/17/18</td>\n",
       "      <td>Email</td>\n",
       "      <td>control</td>\n",
       "      <td>True</td>\n",
       "      <td>German</td>\n",
       "      <td>German</td>\n",
       "      <td>45-55 years</td>\n",
       "      <td>1/17/18</td>\n",
       "      <td>1/24/18</td>\n",
       "      <td>Email</td>\n",
       "      <td>False</td>\n",
       "    </tr>\n",
       "    <tr>\n",
       "      <th>10033</th>\n",
       "      <td>a100007291</td>\n",
       "      <td>1/17/18</td>\n",
       "      <td>Email</td>\n",
       "      <td>control</td>\n",
       "      <td>True</td>\n",
       "      <td>German</td>\n",
       "      <td>German</td>\n",
       "      <td>55+ years</td>\n",
       "      <td>1/17/18</td>\n",
       "      <td>NaN</td>\n",
       "      <td>Email</td>\n",
       "      <td>True</td>\n",
       "    </tr>\n",
       "    <tr>\n",
       "      <th>10034</th>\n",
       "      <td>a100007292</td>\n",
       "      <td>1/5/18</td>\n",
       "      <td>Instagram</td>\n",
       "      <td>control</td>\n",
       "      <td>False</td>\n",
       "      <td>German</td>\n",
       "      <td>German</td>\n",
       "      <td>55+ years</td>\n",
       "      <td>1/17/18</td>\n",
       "      <td>NaN</td>\n",
       "      <td>Email</td>\n",
       "      <td>True</td>\n",
       "    </tr>\n",
       "    <tr>\n",
       "      <th>10035</th>\n",
       "      <td>a100007293</td>\n",
       "      <td>1/17/18</td>\n",
       "      <td>Email</td>\n",
       "      <td>control</td>\n",
       "      <td>True</td>\n",
       "      <td>German</td>\n",
       "      <td>German</td>\n",
       "      <td>0-18 years</td>\n",
       "      <td>1/17/18</td>\n",
       "      <td>NaN</td>\n",
       "      <td>Email</td>\n",
       "      <td>True</td>\n",
       "    </tr>\n",
       "    <tr>\n",
       "      <th>10036</th>\n",
       "      <td>a100007294</td>\n",
       "      <td>1/6/18</td>\n",
       "      <td>Facebook</td>\n",
       "      <td>control</td>\n",
       "      <td>False</td>\n",
       "      <td>German</td>\n",
       "      <td>German</td>\n",
       "      <td>0-18 years</td>\n",
       "      <td>1/17/18</td>\n",
       "      <td>NaN</td>\n",
       "      <td>Email</td>\n",
       "      <td>True</td>\n",
       "    </tr>\n",
       "  </tbody>\n",
       "</table>\n",
       "</div>"
      ],
      "text/plain": [
       "          user_id date_served marketing_channel  variant converted  \\\n",
       "10032  a100007290     1/17/18             Email  control      True   \n",
       "10033  a100007291     1/17/18             Email  control      True   \n",
       "10034  a100007292      1/5/18         Instagram  control     False   \n",
       "10035  a100007293     1/17/18             Email  control      True   \n",
       "10036  a100007294      1/6/18          Facebook  control     False   \n",
       "\n",
       "      language_displayed language_preferred    age_group date_subscribed  \\\n",
       "10032             German             German  45-55 years         1/17/18   \n",
       "10033             German             German    55+ years         1/17/18   \n",
       "10034             German             German    55+ years         1/17/18   \n",
       "10035             German             German   0-18 years         1/17/18   \n",
       "10036             German             German   0-18 years         1/17/18   \n",
       "\n",
       "      date_canceled subscribing_channel is_retained  \n",
       "10032       1/24/18               Email       False  \n",
       "10033           NaN               Email        True  \n",
       "10034           NaN               Email        True  \n",
       "10035           NaN               Email        True  \n",
       "10036           NaN               Email        True  "
      ]
     },
     "execution_count": 6,
     "metadata": {},
     "output_type": "execute_result"
    }
   ],
   "source": [
    "marketing.head(5)\n",
    "marketing.tail(5)"
   ]
  },
  {
   "cell_type": "code",
   "execution_count": 25,
   "metadata": {},
   "outputs": [
    {
     "data": {
      "text/plain": [
       "Index(['user_id', 'date_served', 'marketing_channel', 'variant', 'converted',\n",
       "       'language_displayed', 'language_preferred', 'age_group',\n",
       "       'date_subscribed', 'date_canceled', 'subscribing_channel',\n",
       "       'is_retained', 'channel_code'],\n",
       "      dtype='object')"
      ]
     },
     "execution_count": 25,
     "metadata": {},
     "output_type": "execute_result"
    },
    {
     "name": "stdout",
     "output_type": "stream",
     "text": [
      "user_id-----object\n",
      "date_served-----object\n",
      "marketing_channel-----object\n",
      "variant-----object\n",
      "converted-----object\n",
      "language_displayed-----object\n",
      "language_preferred-----object\n",
      "age_group-----object\n",
      "date_subscribed-----object\n",
      "date_canceled-----object\n",
      "subscribing_channel-----object\n",
      "is_retained-----object\n",
      "channel_code-----float64\n"
     ]
    }
   ],
   "source": [
    "marketing.columns\n",
    "for c in marketing.columns:\n",
    "    print(str(c) + \"-\"*5 + str(marketing[c].dtype))"
   ]
  },
  {
   "cell_type": "markdown",
   "metadata": {},
   "source": [
    "### Mapping values in column"
   ]
  },
  {
   "cell_type": "code",
   "execution_count": 13,
   "metadata": {},
   "outputs": [],
   "source": [
    "# Mapping for channels\n",
    "channel_dict = {\"House Ads\": 1, \"Instagram\": 2, \n",
    "                \"Facebook\": 3, \"Email\": 4, \"Push\": 5}\n",
    "\n",
    "# Map the channel to a channel code\n",
    "marketing['channel_code'] = marketing['subscribing_channel']\\\n",
    "                            .map(channel_dict)"
   ]
  },
  {
   "cell_type": "markdown",
   "metadata": {},
   "source": [
    "### Convert string type to date time with date columns, and convert to day of week"
   ]
  },
  {
   "cell_type": "code",
   "execution_count": 26,
   "metadata": {},
   "outputs": [],
   "source": [
    "### Convert string type to date time with date columns\n",
    "marketing = pd.read_csv('marketing.csv', parse_dates=['date_served','date_subscribed','date_canceled'])\n",
    "\n",
    "marketing['DoW'] = marketing['date_subscribed'].dt.dayofweek"
   ]
  },
  {
   "cell_type": "markdown",
   "metadata": {},
   "source": [
    "### 2. Check how many users by channel and how many users are seeing ads each day"
   ]
  },
  {
   "cell_type": "code",
   "execution_count": 33,
   "metadata": {},
   "outputs": [],
   "source": [
    "daily_users = marketing.groupby(['date_served'])['user_id'].nunique()"
   ]
  },
  {
   "cell_type": "code",
   "execution_count": 34,
   "metadata": {},
   "outputs": [
    {
     "data": {
      "text/plain": [
       "<matplotlib.axes._subplots.AxesSubplot at 0x7fafde717a50>"
      ]
     },
     "execution_count": 34,
     "metadata": {},
     "output_type": "execute_result"
    },
    {
     "data": {
      "text/plain": [
       "Text(0.5, 1.0, 'Daily users')"
      ]
     },
     "execution_count": 34,
     "metadata": {},
     "output_type": "execute_result"
    },
    {
     "data": {
      "text/plain": [
       "Text(0, 0.5, 'Number of users')"
      ]
     },
     "execution_count": 34,
     "metadata": {},
     "output_type": "execute_result"
    },
    {
     "data": {
      "text/plain": [
       "(array([17532, 17562]), <a list of 2 Text xticklabel objects>)"
      ]
     },
     "execution_count": 34,
     "metadata": {},
     "output_type": "execute_result"
    },
    {
     "data": {
      "image/png": "[encoded data removed]",
      "text/plain": [
       "<Figure size 432x288 with 1 Axes>"
      ]
     },
     "metadata": {
      "needs_background": "light"
     },
     "output_type": "display_data"
    }
   ],
   "source": [
    "# Plot daily_subscribers\n",
    "daily_users.plot()\n",
    "\n",
    "# Include a title and y-axis label\n",
    "plt.title('Daily users')\n",
    "plt.ylabel('Number of users')\n",
    "\n",
    "# Rotate the x-axis labels by 45 degrees\n",
    "plt.xticks(rotation = 45)\n",
    "\n",
    "# Display the plot\n",
    "plt.show()"
   ]
  },
  {
   "cell_type": "markdown",
   "metadata": {},
   "source": [
    "### 3. Conversion rate and retention rate\n",
    "\n",
    "You can create high conversion rate by giving users a free trial, but have a low retention rate once users are charged when using services => this might be a bad thing"
   ]
  },
  {
   "cell_type": "markdown",
   "metadata": {},
   "source": [
    "### 3a. Conversion rate\n",
    "\n",
    "- Compute conversion rate to evaluate how a marketing campaign performed \n",
    "\n",
    "- Visualize data with type is Series\n",
    "\n",
    "- Visualize data with type is DataFrame\n"
   ]
  },
  {
   "cell_type": "code",
   "execution_count": 35,
   "metadata": {},
   "outputs": [
    {
     "name": "stdout",
     "output_type": "stream",
     "text": [
      "13.89 %\n"
     ]
    }
   ],
   "source": [
    "# Calculate the number of people we marketed to\n",
    "total = marketing['user_id'].nunique()\n",
    "\n",
    "# Calculate the number of people who subscribed\n",
    "subscribers = marketing[marketing[\"converted\"] == True]['user_id'].nunique()\n",
    "\n",
    "# Calculate the conversion rate\n",
    "conversion_rate = subscribers / total\n",
    "print(round(conversion_rate*100, 2), \"%\")"
   ]
  },
  {
   "cell_type": "code",
   "execution_count": 69,
   "metadata": {},
   "outputs": [],
   "source": [
    "# User-defined conversion rate function\n",
    "def conversion_rate(dataframe, column_names):  #column_names: might be a list\n",
    "    # Total number of converted users\n",
    "    column_conv = dataframe[dataframe['converted'] == True]\\\n",
    "                       .groupby(column_names)['user_id'].nunique()\n",
    "\n",
    "    # Total number users\n",
    "    column_total = dataframe.groupby(column_names)['user_id'].nunique()   \n",
    "    \n",
    "    # Conversion rate \n",
    "    conversion_rate = column_conv/column_total\n",
    "    \n",
    "    # Fill missing values with 0\n",
    "    conversion_rate = conversion_rate.fillna(0)\n",
    "    return conversion_rate\n",
    "\n",
    "age_group_conv = conversion_rate(marketing,['date_served','age_group'])"
   ]
  },
  {
   "cell_type": "code",
   "execution_count": 53,
   "metadata": {},
   "outputs": [
    {
     "name": "stdout",
     "output_type": "stream",
     "text": [
      "date_served\n",
      "2018-01-01    0.099448\n",
      "2018-01-02    0.098930\n",
      "2018-01-03    0.103448\n",
      "2018-01-04    0.108359\n",
      "2018-01-05    0.125392\n",
      "2018-01-06    0.113636\n",
      "2018-01-07    0.141818\n",
      "2018-01-08    0.115385\n",
      "2018-01-09    0.125000\n",
      "2018-01-10    0.118694\n",
      "2018-01-11    0.080645\n",
      "2018-01-12    0.076412\n",
      "2018-01-13    0.084967\n",
      "2018-01-14    0.085246\n",
      "2018-01-15    0.113429\n",
      "2018-01-16    0.255155\n",
      "2018-01-17    0.219512\n",
      "2018-01-18    0.091195\n",
      "2018-01-19    0.059016\n",
      "2018-01-20    0.067524\n",
      "2018-01-21    0.087336\n",
      "2018-01-22    0.123596\n",
      "2018-01-23    0.122093\n",
      "2018-01-24    0.115789\n",
      "2018-01-25    0.125000\n",
      "2018-01-26    0.090090\n",
      "2018-01-27    0.065625\n",
      "2018-01-28    0.062500\n",
      "2018-01-29    0.059561\n",
      "2018-01-30    0.066246\n",
      "2018-01-31    0.052941\n",
      "Name: user_id, dtype: float64\n"
     ]
    },
    {
     "data": {
      "text/plain": [
       "<matplotlib.axes._subplots.AxesSubplot at 0x7fafded50a50>"
      ]
     },
     "execution_count": 53,
     "metadata": {},
     "output_type": "execute_result"
    },
    {
     "data": {
      "text/plain": [
       "Text(0.5, 1.0, 'Daily Conversion Rate')"
      ]
     },
     "execution_count": 53,
     "metadata": {},
     "output_type": "execute_result"
    },
    {
     "data": {
      "image/png": "[encoded data removed]",
      "text/plain": [
       "<Figure size 432x288 with 1 Axes>"
      ]
     },
     "metadata": {
      "needs_background": "light"
     },
     "output_type": "display_data"
    }
   ],
   "source": [
    "## Plot conversion by day \n",
    "\n",
    "# Group by date_served and count unique users\n",
    "total = marketing.groupby('date_served')['user_id'].nunique()\n",
    "\n",
    "# Group by date_served and count unique converted users\n",
    "subscribers = marketing[marketing['converted']==True].groupby('date_served')['user_id'].nunique()\n",
    "\n",
    "# Calculate the conversion rate per day\n",
    "daily_conversion_rates = subscribers/total\n",
    "\n",
    "print(daily_conversion_rates)\n",
    "\n",
    "daily_conversion_rates.plot()\n",
    "plt.title('Daily Conversion Rate')"
   ]
  },
  {
   "cell_type": "code",
   "execution_count": 55,
   "metadata": {},
   "outputs": [
    {
     "data": {
      "text/plain": [
       "<matplotlib.axes._subplots.AxesSubplot at 0x7fafdee27750>"
      ]
     },
     "execution_count": 55,
     "metadata": {},
     "output_type": "execute_result"
    },
    {
     "data": {
      "text/plain": [
       "Text(0.5, 1.0, 'Daily conversion rate\\n')"
      ]
     },
     "execution_count": 55,
     "metadata": {},
     "output_type": "execute_result"
    },
    {
     "data": {
      "text/plain": [
       "Text(0, 0.5, 'Conversion rate (%)')"
      ]
     },
     "execution_count": 55,
     "metadata": {},
     "output_type": "execute_result"
    },
    {
     "data": {
      "text/plain": [
       "Text(0.5, 0, 'Date')"
      ]
     },
     "execution_count": 55,
     "metadata": {},
     "output_type": "execute_result"
    },
    {
     "data": {
      "text/plain": [
       "(0, 0.26526531231049116)"
      ]
     },
     "execution_count": 55,
     "metadata": {},
     "output_type": "execute_result"
    },
    {
     "data": {
      "image/png": "[encoded data removed]",
      "text/plain": [
       "<Figure size 432x288 with 1 Axes>"
      ]
     },
     "metadata": {
      "needs_background": "light"
     },
     "output_type": "display_data"
    }
   ],
   "source": [
    "## Because type(daily_conversion_rate) is Series, we can turn to DataFrame\n",
    "\n",
    "# Reset index to turn the results into a DataFrame\n",
    "daily_conversion_rate = pd.DataFrame(daily_conversion_rates.reset_index(0))\n",
    "\n",
    "# Rename columns\n",
    "daily_conversion_rate.columns = ['date_served', \n",
    "                                 'conversion_rate']\n",
    "\n",
    "# Create a line chart using daily_conversion_rate\n",
    "daily_conversion_rate.plot('date_served', 'conversion_rate', kind = 'line')\n",
    "\n",
    "plt.title('Daily conversion rate\\n', size = 16)\n",
    "plt.ylabel('Conversion rate (%)', size = 14)\n",
    "plt.xlabel('Date', size = 14)\n",
    "\n",
    "# Set the y-axis to begin at 0\n",
    "plt.ylim(0)\n",
    "\n",
    "# Display the plot\n",
    "plt.show()"
   ]
  },
  {
   "cell_type": "markdown",
   "metadata": {},
   "source": [
    "### 3b. Retention rate to see how many people remained subscribed from total number of people who converted"
   ]
  },
  {
   "cell_type": "code",
   "execution_count": 36,
   "metadata": {},
   "outputs": [
    {
     "name": "stdout",
     "output_type": "stream",
     "text": [
      "66.8 %\n"
     ]
    }
   ],
   "source": [
    "# Calculate the number of subscribers\n",
    "total_subscribers = marketing[marketing[\"converted\"] == True]['user_id'].nunique()\n",
    "\n",
    "# Calculate the number of people who remained subscribed\n",
    "retained = marketing[marketing['is_retained'] == True]['user_id'].nunique()\n",
    "\n",
    "# Calculate the retention rate\n",
    "retention_rate = retained/total_subscribers\n",
    "print(round(retention_rate*100, 2), \"%\")"
   ]
  },
  {
   "cell_type": "markdown",
   "metadata": {},
   "source": [
    "### 4. Determine how effective the campaign \n",
    "\n",
    "- Determine how effective the campaign was on converting English speakers\n",
    "\n",
    "- Determine how effective the campaign was by language group\n",
    "\n",
    "- Visualize conversion rate by language group when data is Series type"
   ]
  },
  {
   "cell_type": "code",
   "execution_count": 40,
   "metadata": {},
   "outputs": [
    {
     "name": "stdout",
     "output_type": "stream",
     "text": [
      "7169\n",
      "926\n",
      "English speaker conversion rate: 12.92 %\n"
     ]
    }
   ],
   "source": [
    "# Isolate english speakers\n",
    "english_speakers = marketing[marketing['language_displayed'] == 'English']\n",
    "\n",
    "# Calculate the total number of english speaking users\n",
    "total = english_speakers['user_id'].nunique()\n",
    "print(total)\n",
    "\n",
    "# Calculate the number of english speakers who converted\n",
    "subscribers = english_speakers[english_speakers['converted'] == True]\\\n",
    "                            ['user_id'].nunique()\n",
    "print(subscribers)\n",
    "\n",
    "# Calculate conversion rate\n",
    "conversion_rate = subscribers/total\n",
    "print('English speaker conversion rate:',  round(conversion_rate*100,2), '%')"
   ]
  },
  {
   "cell_type": "code",
   "execution_count": 48,
   "metadata": {},
   "outputs": [
    {
     "name": "stdout",
     "output_type": "stream",
     "text": [
      "language_displayed\n",
      "Arabic     0.500000\n",
      "English    0.129167\n",
      "German     0.716216\n",
      "Spanish    0.200000\n",
      "Name: user_id, dtype: float64\n"
     ]
    },
    {
     "data": {
      "text/plain": [
       "pandas.core.series.Series"
      ]
     },
     "execution_count": 48,
     "metadata": {},
     "output_type": "execute_result"
    }
   ],
   "source": [
    "# Group by language_displayed and count unique users\n",
    "total = marketing.groupby(['language_displayed'])\\\n",
    "                                  ['user_id'].nunique()\n",
    "\n",
    "# Group by language_displayed and count unique conversions\n",
    "subscribers = marketing[marketing['converted'] == True].groupby(['language_displayed'])['user_id'].nunique()\n",
    "\n",
    "# Calculate the conversion rate for all languages\n",
    "language_conversion_rate = subscribers/total\n",
    "print(language_conversion_rate)\n",
    "\n",
    "type(language_conversion_rate)"
   ]
  },
  {
   "cell_type": "code",
   "execution_count": 46,
   "metadata": {},
   "outputs": [
    {
     "data": {
      "text/plain": [
       "<matplotlib.axes._subplots.AxesSubplot at 0x7fafdea42e90>"
      ]
     },
     "execution_count": 46,
     "metadata": {},
     "output_type": "execute_result"
    },
    {
     "data": {
      "text/plain": [
       "Text(0.5, 1.0, 'Conversion rate by language\\n')"
      ]
     },
     "execution_count": 46,
     "metadata": {},
     "output_type": "execute_result"
    },
    {
     "data": {
      "text/plain": [
       "Text(0.5, 0, 'Language')"
      ]
     },
     "execution_count": 46,
     "metadata": {},
     "output_type": "execute_result"
    },
    {
     "data": {
      "text/plain": [
       "Text(0, 0.5, 'Conversion rate (%)')"
      ]
     },
     "execution_count": 46,
     "metadata": {},
     "output_type": "execute_result"
    },
    {
     "data": {
      "image/png": "[encoded data removed]",
      "text/plain": [
       "<Figure size 432x288 with 1 Axes>"
      ]
     },
     "metadata": {
      "needs_background": "light"
     },
     "output_type": "display_data"
    }
   ],
   "source": [
    "## Visualize conversion rate by language\n",
    "# Create a bar chart using language_conversion_rate DataFrame\n",
    "language_conversion_rate.plot(kind = 'bar')\n",
    "\n",
    "# Add a title and x and y-axis labels\n",
    "plt.title('Conversion rate by language\\n', size = 16)\n",
    "plt.xlabel('Language', size = 14)\n",
    "plt.ylabel('Conversion rate (%)', size = 14)\n",
    "\n",
    "# Display the plot\n",
    "plt.show()"
   ]
  },
  {
   "cell_type": "markdown",
   "metadata": {},
   "source": [
    "### 5. Determine if marketing channels are serving specific age demographics"
   ]
  },
  {
   "cell_type": "markdown",
   "metadata": {},
   "source": [
    "### 5a. Number of unique users by channel and age demographics"
   ]
  },
  {
   "cell_type": "code",
   "execution_count": 58,
   "metadata": {
    "scrolled": false
   },
   "outputs": [
    {
     "name": "stdout",
     "output_type": "stream",
     "text": [
      "age_group          0-18 years  19-24 years  24-30 years  30-36 years  \\\n",
      "marketing_channel                                                      \n",
      "Email                      93          111          120           60   \n",
      "Facebook                  264          347          296          249   \n",
      "House Ads                 694          761          681          699   \n",
      "Instagram                 300          315          286          259   \n",
      "Push                      186          145          183           86   \n",
      "\n",
      "age_group          36-45 years  45-55 years  55+ years  \n",
      "marketing_channel                                       \n",
      "Email                       63           65         53  \n",
      "Facebook                   226          299        179  \n",
      "House Ads                  589          678        631  \n",
      "Instagram                  280          227        204  \n",
      "Push                       193           82        118  \n"
     ]
    },
    {
     "data": {
      "text/plain": [
       "<matplotlib.axes._subplots.AxesSubplot at 0x7fafdfc25a10>"
      ]
     },
     "execution_count": 58,
     "metadata": {},
     "output_type": "execute_result"
    },
    {
     "data": {
      "text/plain": [
       "Text(0.5, 1.0, 'Marketing channels by age group')"
      ]
     },
     "execution_count": 58,
     "metadata": {},
     "output_type": "execute_result"
    },
    {
     "data": {
      "text/plain": [
       "Text(0.5, 0, 'Age Group')"
      ]
     },
     "execution_count": 58,
     "metadata": {},
     "output_type": "execute_result"
    },
    {
     "data": {
      "text/plain": [
       "Text(0, 0.5, 'Users')"
      ]
     },
     "execution_count": 58,
     "metadata": {},
     "output_type": "execute_result"
    },
    {
     "data": {
      "text/plain": [
       "<matplotlib.legend.Legend at 0x7fafdfa82c10>"
      ]
     },
     "execution_count": 58,
     "metadata": {},
     "output_type": "execute_result"
    },
    {
     "data": {
      "image/png": "[encoded data removed]",
      "text/plain": [
       "<Figure size 432x288 with 1 Axes>"
      ]
     },
     "metadata": {
      "needs_background": "light"
     },
     "output_type": "display_data"
    }
   ],
   "source": [
    "channel_age = marketing.groupby(['marketing_channel', 'age_group'])\\\n",
    "                                ['user_id'].count()\n",
    "\n",
    "# Unstack channel_age and transform it into a DataFrame\n",
    "channel_age_df = pd.DataFrame(channel_age.unstack(level = 1))\n",
    "print(channel_age_df)\n",
    "\n",
    "# Plot the results\n",
    "channel_age_df.plot(kind = 'bar')\n",
    "plt.title('Marketing channels by age group')\n",
    "plt.xlabel('Age Group')\n",
    "plt.ylabel('Users')\n",
    "# Add a legend to the plot\n",
    "plt.legend(loc = 'upper right', \n",
    "           labels = channel_age_df.columns.values)\n",
    "plt.show()"
   ]
  },
  {
   "cell_type": "markdown",
   "metadata": {},
   "source": [
    "### 5b. Retention rate for campaigns"
   ]
  },
  {
   "cell_type": "code",
   "execution_count": 68,
   "metadata": {
    "scrolled": false
   },
   "outputs": [
    {
     "name": "stdout",
     "output_type": "stream",
     "text": [
      "date_subscribed  subscribing_channel\n",
      "2018-01-01       Email                   1\n",
      "                 Facebook                8\n",
      "                 House Ads              16\n",
      "                 Instagram               8\n",
      "                 Push                    3\n",
      "                                        ..\n",
      "2018-01-31       Email                   1\n",
      "                 Facebook                6\n",
      "                 House Ads               6\n",
      "                 Instagram               3\n",
      "                 Push                    2\n",
      "Name: user_id, Length: 155, dtype: int64\n",
      "--------------------------------------------------\n",
      "date_subscribed  subscribing_channel\n",
      "2018-01-01       Email                   1\n",
      "                 Facebook                7\n",
      "                 House Ads              11\n",
      "                 Instagram               6\n",
      "                 Push                    3\n",
      "                                        ..\n",
      "2018-01-31       Email                   1\n",
      "                 Facebook                5\n",
      "                 House Ads               3\n",
      "                 Instagram               2\n",
      "                 Push                    1\n",
      "Name: user_id, Length: 146, dtype: int64\n",
      "subscribing_channel  Email  Facebook  House Ads  Instagram      Push\n",
      "date_subscribed                                                     \n",
      "2018-01-01            1.00  0.875000   0.687500   0.750000  1.000000\n",
      "2018-01-02            0.75  1.000000   0.588235   0.625000  1.000000\n",
      "2018-01-03             NaN  0.800000   0.647059   0.909091  0.666667\n",
      "2018-01-04            0.50  0.666667   0.466667   0.500000       NaN\n",
      "2018-01-05            1.00  0.571429   0.500000   0.636364  1.000000\n"
     ]
    },
    {
     "data": {
      "text/plain": [
       "<matplotlib.axes._subplots.AxesSubplot at 0x7fafe030e310>"
      ]
     },
     "execution_count": 68,
     "metadata": {},
     "output_type": "execute_result"
    },
    {
     "data": {
      "image/png": "[encoded data removed]",
      "text/plain": [
       "<Figure size 432x288 with 1 Axes>"
      ]
     },
     "metadata": {
      "needs_background": "light"
     },
     "output_type": "display_data"
    }
   ],
   "source": [
    "# Count the subs by subscribing channel and day\n",
    "retention_total = marketing.groupby(['date_subscribed',\n",
    "                                     'subscribing_channel'])['user_id'].nunique()\n",
    "print(retention_total)\n",
    "\n",
    "retention_subs = marketing[marketing['is_retained']==True].groupby(['date_subscribed',\n",
    "                                     'subscribing_channel'])['user_id'].nunique()\n",
    "print(\"-\"*50)\n",
    "print(retention_subs)\n",
    "\n",
    "retention_rate = retention_subs/retention_total\n",
    "\n",
    "retention_rate_df = pd.DataFrame(retention_rate.unstack(level=1))\n",
    "print(retention_rate_df.head(5))\n",
    "\n",
    "retention_rate_df.plot()\n",
    "\n",
    "# Add a title, x-label, y-label, legend and display the plot\n",
    "# plt.title('Retention Rate by Subscribing Channel')\n",
    "# plt.xlabel('Date Subscribed')\n",
    "# plt.ylabel('Retention Rate (%)')\n",
    "# plt.legend(loc = 'upper right'\n",
    "# , labels = retention_rate_df.columns.values)\n",
    "# plt.show()"
   ]
  },
  {
   "cell_type": "markdown",
   "metadata": {},
   "source": [
    "### 6. Because marketing channel \"House Ads\" has the most users, we will examine more about this channel"
   ]
  },
  {
   "cell_type": "markdown",
   "metadata": {},
   "source": [
    "### 6a. There is a decrease in conversion rate in recent days"
   ]
  },
  {
   "cell_type": "code",
   "execution_count": 75,
   "metadata": {
    "scrolled": true
   },
   "outputs": [
    {
     "data": {
      "text/plain": [
       "<matplotlib.axes._subplots.AxesSubplot at 0x7fafe052a110>"
      ]
     },
     "execution_count": 75,
     "metadata": {},
     "output_type": "execute_result"
    },
    {
     "data": {
      "image/png": "[encoded data removed]",
      "text/plain": [
       "<Figure size 432x288 with 1 Axes>"
      ]
     },
     "metadata": {
      "needs_background": "light"
     },
     "output_type": "display_data"
    }
   ],
   "source": [
    "# Isolate the rows where marketing channel is House Ads\n",
    "house_ads = marketing[marketing['marketing_channel'] == 'House Ads']\n",
    "\n",
    "\n",
    "# Calculate conversion by date served, and language displayed\n",
    "conv_lang_channel = conversion_rate(house_ads,['date_served','language_displayed'])\n",
    "\n",
    "# Unstack conv_lang_channel\n",
    "conv_lang_df = pd.DataFrame(conv_lang_channel.unstack(level=1))\n",
    "\n",
    "conv_lang_df.plot()"
   ]
  },
  {
   "cell_type": "markdown",
   "metadata": {},
   "source": [
    "### 6b. We have to check to see why there is a decrease in conversion rate for channe: House Ads\n",
    "\n",
    "- Hypothesis: Because language display is not language preferred"
   ]
  },
  {
   "cell_type": "code",
   "execution_count": 76,
   "metadata": {},
   "outputs": [
    {
     "name": "stdout",
     "output_type": "stream",
     "text": [
      "is_correct_lang    No    Yes\n",
      "date_served                 \n",
      "2018-01-01        2.0  189.0\n",
      "2018-01-02        3.0  247.0\n",
      "2018-01-03        0.0  220.0\n",
      "2018-01-04        0.0  168.0\n",
      "2018-01-05        0.0  160.0\n",
      "2018-01-06        1.0  151.0\n",
      "2018-01-07        2.0  130.0\n",
      "2018-01-08        0.0  154.0\n",
      "2018-01-09        0.0  157.0\n",
      "2018-01-10        0.0  170.0\n",
      "2018-01-11       20.0  135.0\n",
      "2018-01-12       18.0  130.0\n",
      "2018-01-13       26.0  122.0\n",
      "2018-01-14       20.0  131.0\n",
      "2018-01-15       16.0  192.0\n",
      "2018-01-16       28.0  127.0\n",
      "2018-01-17       21.0  127.0\n",
      "2018-01-18       31.0  121.0\n",
      "2018-01-19       22.0  127.0\n",
      "2018-01-20       28.0  124.0\n",
      "2018-01-21       14.0  100.0\n",
      "2018-01-22       13.0   72.0\n",
      "2018-01-23       16.0   69.0\n",
      "2018-01-24       13.0   83.0\n",
      "2018-01-25       19.0   74.0\n",
      "2018-01-26       24.0   92.0\n",
      "2018-01-27       18.0  149.0\n",
      "2018-01-28       28.0  136.0\n",
      "2018-01-29       24.0  142.0\n",
      "2018-01-30       23.0  145.0\n",
      "2018-01-31       23.0  135.0\n"
     ]
    },
    {
     "name": "stderr",
     "output_type": "stream",
     "text": [
      "/Users/lytran/opt/anaconda3/lib/python3.7/site-packages/ipykernel_launcher.py:5: SettingWithCopyWarning: \n",
      "A value is trying to be set on a copy of a slice from a DataFrame.\n",
      "Try using .loc[row_indexer,col_indexer] = value instead\n",
      "\n",
      "See the caveats in the documentation: https://pandas.pydata.org/pandas-docs/stable/user_guide/indexing.html#returning-a-view-versus-a-copy\n",
      "  \"\"\"\n"
     ]
    }
   ],
   "source": [
    "# Add the new column is_correct_lang\n",
    "house_ads['is_correct_lang'] = np.where(house_ads['language_preferred'] == house_ads['language_displayed'], 'Yes', 'No')\n",
    "\n",
    "# Groupby date_served and is_correct_lang\n",
    "language_check = house_ads.groupby(['date_served','is_correct_lang'])['is_correct_lang'].count()\n",
    "\n",
    "# Unstack language_check and fill missing values with 0's\n",
    "language_check_df = pd.DataFrame(language_check.unstack(level=1)).fillna(0)\n",
    "\n",
    "# Print results\n",
    "print(language_check_df)"
   ]
  },
  {
   "cell_type": "code",
   "execution_count": 78,
   "metadata": {},
   "outputs": [
    {
     "data": {
      "text/html": [
       "<div>\n",
       "<style scoped>\n",
       "    .dataframe tbody tr th:only-of-type {\n",
       "        vertical-align: middle;\n",
       "    }\n",
       "\n",
       "    .dataframe tbody tr th {\n",
       "        vertical-align: top;\n",
       "    }\n",
       "\n",
       "    .dataframe thead th {\n",
       "        text-align: right;\n",
       "    }\n",
       "</style>\n",
       "<table border=\"1\" class=\"dataframe\">\n",
       "  <thead>\n",
       "    <tr style=\"text-align: right;\">\n",
       "      <th>is_correct_lang</th>\n",
       "      <th>No</th>\n",
       "      <th>Yes</th>\n",
       "      <th>pct</th>\n",
       "    </tr>\n",
       "    <tr>\n",
       "      <th>date_served</th>\n",
       "      <th></th>\n",
       "      <th></th>\n",
       "      <th></th>\n",
       "    </tr>\n",
       "  </thead>\n",
       "  <tbody>\n",
       "    <tr>\n",
       "      <th>2018-01-01</th>\n",
       "      <td>2.0</td>\n",
       "      <td>189.0</td>\n",
       "      <td>0.984429</td>\n",
       "    </tr>\n",
       "    <tr>\n",
       "      <th>2018-01-02</th>\n",
       "      <td>3.0</td>\n",
       "      <td>247.0</td>\n",
       "      <td>0.984111</td>\n",
       "    </tr>\n",
       "    <tr>\n",
       "      <th>2018-01-03</th>\n",
       "      <td>0.0</td>\n",
       "      <td>220.0</td>\n",
       "      <td>0.995475</td>\n",
       "    </tr>\n",
       "    <tr>\n",
       "      <th>2018-01-04</th>\n",
       "      <td>0.0</td>\n",
       "      <td>168.0</td>\n",
       "      <td>0.994083</td>\n",
       "    </tr>\n",
       "    <tr>\n",
       "      <th>2018-01-05</th>\n",
       "      <td>0.0</td>\n",
       "      <td>160.0</td>\n",
       "      <td>0.993789</td>\n",
       "    </tr>\n",
       "  </tbody>\n",
       "</table>\n",
       "</div>"
      ],
      "text/plain": [
       "is_correct_lang   No    Yes       pct\n",
       "date_served                          \n",
       "2018-01-01       2.0  189.0  0.984429\n",
       "2018-01-02       3.0  247.0  0.984111\n",
       "2018-01-03       0.0  220.0  0.995475\n",
       "2018-01-04       0.0  168.0  0.994083\n",
       "2018-01-05       0.0  160.0  0.993789"
      ]
     },
     "execution_count": 78,
     "metadata": {},
     "output_type": "execute_result"
    },
    {
     "data": {
      "text/plain": [
       "[<matplotlib.lines.Line2D at 0x7fafe06b8e50>]"
      ]
     },
     "execution_count": 78,
     "metadata": {},
     "output_type": "execute_result"
    },
    {
     "data": {
      "image/png": "[encoded data removed]",
      "text/plain": [
       "<Figure size 432x288 with 1 Axes>"
      ]
     },
     "metadata": {
      "needs_background": "light"
     },
     "output_type": "display_data"
    }
   ],
   "source": [
    "### let's calculate what percentage of users were not being served ads in the right language and plot your results.\n",
    "\n",
    "# Divide the count where language is correct by the row sum\n",
    "language_check_df['pct'] = language_check_df['Yes']/language_check_df.sum(axis=1)\n",
    "language_check_df.head(5)\n",
    "\n",
    "# Plot and show your results\n",
    "plt.plot(language_check_df.index.values, language_check_df['pct'])\n",
    "plt.show()"
   ]
  },
  {
   "cell_type": "markdown",
   "metadata": {},
   "source": [
    "### 6c. Plot above indicates that the issue with House Ads conversion comes from language ( because % of language displayed correctly is low). So, we want to know how mnay subscribers we lost as a result of this bug"
   ]
  },
  {
   "cell_type": "code",
   "execution_count": 84,
   "metadata": {},
   "outputs": [
    {
     "name": "stdout",
     "output_type": "stream",
     "text": [
      "      user_id date_served marketing_channel          variant converted  \\\n",
      "0  a100000029  2018-01-01         House Ads  personalization      True   \n",
      "\n",
      "  language_displayed language_preferred   age_group date_subscribed  \\\n",
      "0            English            English  0-18 years      2018-01-01   \n",
      "\n",
      "  date_canceled subscribing_channel is_retained  DoW is_correct_lang  \n",
      "0           NaT           House Ads        True  0.0             Yes  \n",
      "--------------------------------------------------\n",
      "language_displayed\n",
      "Arabic     0.500000\n",
      "English    0.099093\n",
      "German     0.444444\n",
      "Spanish    0.166667\n",
      "Name: user_id, dtype: float64\n",
      "--------------------------------------------------\n",
      "Spanish index: 1.681924882629108\n",
      "Arabic index: 5.045774647887324\n",
      "German index: 4.485133020344287\n"
     ]
    }
   ],
   "source": [
    "# Calculate pre-error conversion rate\n",
    "house_ads_bug = house_ads[house_ads['date_served'] < '2018-01-11']\n",
    "lang_conv = conversion_rate(house_ads_bug, ['language_displayed']) \n",
    "\n",
    "print(house_ads_bug.head(1))\n",
    "print(\"-\"*50)\n",
    "print(lang_conv)\n",
    "\n",
    "# Index other language conversion rate against English\n",
    "spanish_index = lang_conv['Spanish']/lang_conv['English']\n",
    "arabic_index = lang_conv['Arabic']/lang_conv['English']\n",
    "german_index = lang_conv['German']/lang_conv['English']\n",
    "\n",
    "print(\"-\"*50)\n",
    "\n",
    "print(\"Spanish index:\", spanish_index)\n",
    "print(\"Arabic index:\", arabic_index)\n",
    "print(\"German index:\", german_index)"
   ]
  },
  {
   "cell_type": "code",
   "execution_count": 85,
   "metadata": {},
   "outputs": [],
   "source": [
    "# Group house_ads by date and language\n",
    "converted = house_ads.groupby(['date_served', \n",
    "                          'language_preferred'])\\\n",
    "                        .agg({'user_id':'nunique',\n",
    "                              'converted':'sum'})\n",
    "\n",
    "# Unstack converted\n",
    "converted_df = pd.DataFrame(converted.unstack(level=1))"
   ]
  },
  {
   "cell_type": "code",
   "execution_count": 113,
   "metadata": {},
   "outputs": [],
   "source": [
    "converted_period = converted.loc['2018-01-11':'2018-01-31'].reset_index()\n",
    "converted_period = converted_period[converted_period['language_preferred']=='English']"
   ]
  },
  {
   "cell_type": "code",
   "execution_count": 111,
   "metadata": {},
   "outputs": [
    {
     "data": {
      "text/html": [
       "<div>\n",
       "<style scoped>\n",
       "    .dataframe tbody tr th:only-of-type {\n",
       "        vertical-align: middle;\n",
       "    }\n",
       "\n",
       "    .dataframe tbody tr th {\n",
       "        vertical-align: top;\n",
       "    }\n",
       "\n",
       "    .dataframe thead th {\n",
       "        text-align: right;\n",
       "    }\n",
       "</style>\n",
       "<table border=\"1\" class=\"dataframe\">\n",
       "  <thead>\n",
       "    <tr style=\"text-align: right;\">\n",
       "      <th></th>\n",
       "      <th>date_served</th>\n",
       "      <th>language_preferred</th>\n",
       "      <th>user_id</th>\n",
       "      <th>converted</th>\n",
       "    </tr>\n",
       "  </thead>\n",
       "  <tbody>\n",
       "    <tr>\n",
       "      <th>1</th>\n",
       "      <td>2018-01-11</td>\n",
       "      <td>English</td>\n",
       "      <td>133</td>\n",
       "      <td>6</td>\n",
       "    </tr>\n",
       "    <tr>\n",
       "      <th>5</th>\n",
       "      <td>2018-01-12</td>\n",
       "      <td>English</td>\n",
       "      <td>129</td>\n",
       "      <td>3</td>\n",
       "    </tr>\n",
       "    <tr>\n",
       "      <th>9</th>\n",
       "      <td>2018-01-13</td>\n",
       "      <td>English</td>\n",
       "      <td>121</td>\n",
       "      <td>5</td>\n",
       "    </tr>\n",
       "    <tr>\n",
       "      <th>13</th>\n",
       "      <td>2018-01-14</td>\n",
       "      <td>English</td>\n",
       "      <td>131</td>\n",
       "      <td>6</td>\n",
       "    </tr>\n",
       "    <tr>\n",
       "      <th>17</th>\n",
       "      <td>2018-01-15</td>\n",
       "      <td>English</td>\n",
       "      <td>189</td>\n",
       "      <td>6</td>\n",
       "    </tr>\n",
       "    <tr>\n",
       "      <th>21</th>\n",
       "      <td>2018-01-16</td>\n",
       "      <td>English</td>\n",
       "      <td>127</td>\n",
       "      <td>6</td>\n",
       "    </tr>\n",
       "    <tr>\n",
       "      <th>25</th>\n",
       "      <td>2018-01-17</td>\n",
       "      <td>English</td>\n",
       "      <td>126</td>\n",
       "      <td>2</td>\n",
       "    </tr>\n",
       "    <tr>\n",
       "      <th>29</th>\n",
       "      <td>2018-01-18</td>\n",
       "      <td>English</td>\n",
       "      <td>121</td>\n",
       "      <td>5</td>\n",
       "    </tr>\n",
       "    <tr>\n",
       "      <th>33</th>\n",
       "      <td>2018-01-19</td>\n",
       "      <td>English</td>\n",
       "      <td>126</td>\n",
       "      <td>4</td>\n",
       "    </tr>\n",
       "    <tr>\n",
       "      <th>37</th>\n",
       "      <td>2018-01-20</td>\n",
       "      <td>English</td>\n",
       "      <td>124</td>\n",
       "      <td>4</td>\n",
       "    </tr>\n",
       "    <tr>\n",
       "      <th>41</th>\n",
       "      <td>2018-01-21</td>\n",
       "      <td>English</td>\n",
       "      <td>99</td>\n",
       "      <td>5</td>\n",
       "    </tr>\n",
       "    <tr>\n",
       "      <th>45</th>\n",
       "      <td>2018-01-22</td>\n",
       "      <td>English</td>\n",
       "      <td>72</td>\n",
       "      <td>4</td>\n",
       "    </tr>\n",
       "    <tr>\n",
       "      <th>49</th>\n",
       "      <td>2018-01-23</td>\n",
       "      <td>English</td>\n",
       "      <td>69</td>\n",
       "      <td>5</td>\n",
       "    </tr>\n",
       "    <tr>\n",
       "      <th>53</th>\n",
       "      <td>2018-01-24</td>\n",
       "      <td>English</td>\n",
       "      <td>83</td>\n",
       "      <td>6</td>\n",
       "    </tr>\n",
       "    <tr>\n",
       "      <th>57</th>\n",
       "      <td>2018-01-25</td>\n",
       "      <td>English</td>\n",
       "      <td>75</td>\n",
       "      <td>4</td>\n",
       "    </tr>\n",
       "    <tr>\n",
       "      <th>61</th>\n",
       "      <td>2018-01-26</td>\n",
       "      <td>English</td>\n",
       "      <td>89</td>\n",
       "      <td>4</td>\n",
       "    </tr>\n",
       "    <tr>\n",
       "      <th>65</th>\n",
       "      <td>2018-01-27</td>\n",
       "      <td>English</td>\n",
       "      <td>148</td>\n",
       "      <td>4</td>\n",
       "    </tr>\n",
       "    <tr>\n",
       "      <th>69</th>\n",
       "      <td>2018-01-28</td>\n",
       "      <td>English</td>\n",
       "      <td>134</td>\n",
       "      <td>4</td>\n",
       "    </tr>\n",
       "    <tr>\n",
       "      <th>73</th>\n",
       "      <td>2018-01-29</td>\n",
       "      <td>English</td>\n",
       "      <td>138</td>\n",
       "      <td>3</td>\n",
       "    </tr>\n",
       "    <tr>\n",
       "      <th>77</th>\n",
       "      <td>2018-01-30</td>\n",
       "      <td>English</td>\n",
       "      <td>139</td>\n",
       "      <td>4</td>\n",
       "    </tr>\n",
       "    <tr>\n",
       "      <th>81</th>\n",
       "      <td>2018-01-31</td>\n",
       "      <td>English</td>\n",
       "      <td>130</td>\n",
       "      <td>4</td>\n",
       "    </tr>\n",
       "  </tbody>\n",
       "</table>\n",
       "</div>"
      ],
      "text/plain": [
       "   date_served language_preferred  user_id converted\n",
       "1   2018-01-11            English      133         6\n",
       "5   2018-01-12            English      129         3\n",
       "9   2018-01-13            English      121         5\n",
       "13  2018-01-14            English      131         6\n",
       "17  2018-01-15            English      189         6\n",
       "21  2018-01-16            English      127         6\n",
       "25  2018-01-17            English      126         2\n",
       "29  2018-01-18            English      121         5\n",
       "33  2018-01-19            English      126         4\n",
       "37  2018-01-20            English      124         4\n",
       "41  2018-01-21            English       99         5\n",
       "45  2018-01-22            English       72         4\n",
       "49  2018-01-23            English       69         5\n",
       "53  2018-01-24            English       83         6\n",
       "57  2018-01-25            English       75         4\n",
       "61  2018-01-26            English       89         4\n",
       "65  2018-01-27            English      148         4\n",
       "69  2018-01-28            English      134         4\n",
       "73  2018-01-29            English      138         3\n",
       "77  2018-01-30            English      139         4\n",
       "81  2018-01-31            English      130         4"
      ]
     },
     "execution_count": 111,
     "metadata": {},
     "output_type": "execute_result"
    }
   ],
   "source": [
    "converted_period[converted_period['language_preferred']=='English']"
   ]
  },
  {
   "cell_type": "code",
   "execution_count": null,
   "metadata": {},
   "outputs": [],
   "source": []
  },
  {
   "cell_type": "markdown",
   "metadata": {},
   "source": [
    "### Table of Contents\n",
    "\n",
    "* [Chapter 1](#chapter1)\n",
    "    * [Section 1.1](#section_1_1)\n",
    "    * [Section 1.2](sSection_1_2)\n",
    "        * [Section 1.2.1](#section_1_2_1)\n",
    "        * [Section 1.2.2](#section_1_2_2)\n",
    "        * [Section 1.2.3](#section_1_2_3)\n",
    "* [Chapter 2](#chapter2)\n",
    "    * [Section 2.1](#section_2_1)\n",
    "    * [Section 2.2](#section_2_2)"
   ]
  },
  {
   "cell_type": "markdown",
   "metadata": {},
   "source": [
    "$P(A \\mid B) = \\frac{P(B \\mid A)P(A)}{P(B)}$"
   ]
  },
  {
   "cell_type": "code",
   "execution_count": null,
   "metadata": {},
   "outputs": [],
   "source": []
  }
 ],
 "metadata": {
  "kernelspec": {
   "display_name": "Python 3",
   "language": "python",
   "name": "python3"
  },
  "language_info": {
   "codemirror_mode": {
    "name": "ipython",
    "version": 3
   },
   "file_extension": ".py",
   "mimetype": "text/x-python",
   "name": "python",
   "nbconvert_exporter": "python",
   "pygments_lexer": "ipython3",
   "version": "3.7.6"
  }
 },
 "nbformat": 4,
 "nbformat_minor": 4
}
